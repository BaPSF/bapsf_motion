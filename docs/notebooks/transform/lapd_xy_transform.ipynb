{
 "cells": [
  {
   "cell_type": "markdown",
   "id": "7fefb950-9158-4c62-b593-cda353ff5db1",
   "metadata": {},
   "source": [
    "# Demo of `LaPDXYTransform`"
   ]
  },
  {
   "cell_type": "code",
   "execution_count": 1,
   "id": "1bef64d2-1541-4dec-ac10-ebcf4cffe4b2",
   "metadata": {},
   "outputs": [],
   "source": [
    "%matplotlib inline"
   ]
  },
  {
   "cell_type": "code",
   "execution_count": 2,
   "id": "63c23fe0-5407-40b9-a998-6f1581d6eb6d",
   "metadata": {},
   "outputs": [],
   "source": [
    "import numpy as np\n",
    "import matplotlib.pyplot as plt\n",
    "import sys\n",
    "\n",
    "plt.rcParams[\"figure.figsize\"] = [10.5, 0.56 * 10.5]"
   ]
  },
  {
   "cell_type": "code",
   "execution_count": 3,
   "id": "9e25f18e-6ce0-48b2-82ac-27c69b006a29",
   "metadata": {},
   "outputs": [],
   "source": [
    "try:\n",
    "    from bapsf_motion.transform import LaPDXYTransform\n",
    "except ModuleNotFoundError:\n",
    "    from pathlib import Path\n",
    "\n",
    "    HERE = Path().cwd()\n",
    "    BAPSF_MOTION = (HERE / \"..\" / \"..\" / \"..\" / \"src\").resolve()\n",
    "    sys.path.append(str(BAPSF_MOTION))\n",
    "    \n",
    "    from bapsf_motion.transform import LaPDXYTransform"
   ]
  },
  {
   "cell_type": "code",
   "execution_count": 4,
   "id": "120c8907-672f-4915-aa03-506dd91b1d18",
   "metadata": {},
   "outputs": [],
   "source": [
    "tr = LaPDXYTransform(\n",
    "    (\"x\", \"y\"),\n",
    "    pivot_to_center=57.288,\n",
    "    pivot_to_drive=134.0,\n",
    "    # probe_axis_offset=10.00125,\n",
    "    probe_axis_offset=20.16125,\n",
    ")"
   ]
  },
  {
   "cell_type": "code",
   "execution_count": 5,
   "id": "4e61105e-3788-4edb-a54c-9a582f04f745",
   "metadata": {},
   "outputs": [
    {
     "data": {
      "image/png": "[encoded data removed]",
      "text/plain": [
       "<Figure size 1058.4x846.72 with 6 Axes>"
      ]
     },
     "metadata": {
      "needs_background": "light"
     },
     "output_type": "display_data"
    }
   ],
   "source": [
    "figwidth, figheight = plt.rcParams[\"figure.figsize\"]\n",
    "figwidth = 1.4 * figwidth\n",
    "figheight = 2.0 * figheight\n",
    "fig, axs = plt.subplots(2, 3, figsize=[figwidth, figheight])\n",
    "\n",
    "axs[0,0].set_xlabel(\"MSpace X\")\n",
    "axs[0,0].set_ylabel(\"MSpace Y\")\n",
    "axs[0,1].set_xlabel(\"Drive X\")\n",
    "axs[0,1].set_ylabel(\"Drive Y\")\n",
    "axs[0,2].set_xlabel(\"MSpace X\")\n",
    "axs[0,2].set_ylabel(\"MSpace Y\")\n",
    "\n",
    "points = np.zeros((40, 2))\n",
    "points[0:10, 0] = np.linspace(-5, 5, num=10, endpoint=False)\n",
    "points[0:10, 1] = 5 * np.ones(10)\n",
    "points[10:20, 0] = 5 * np.ones(10)\n",
    "points[10:20, 1] = np.linspace(5, -5, num=10, endpoint=False)\n",
    "points[20:30, 0] = np.linspace(5, -5, num=10, endpoint=False)\n",
    "points[20:30, 1] = -5 * np.ones(10)\n",
    "points[30:40, 0] = -5 * np.ones(10)\n",
    "points[30:40, 1] = np.linspace(-5, 5, num=10, endpoint=False)\n",
    "\n",
    "dpoints = tr.convert(points, to_coords=\"drive\")\n",
    "mpoints = tr.convert(dpoints, to_coords=\"motion_space\")\n",
    "\n",
    "axs[0,0].fill(points[...,0], points[...,1])\n",
    "axs[0,1].fill(dpoints[...,0], dpoints[...,1])\n",
    "axs[0,2].fill(mpoints[...,0], mpoints[...,1])\n",
    "\n",
    "for pt, color in zip(\n",
    "    [\n",
    "        [-5, 5],\n",
    "        [-5, -5],\n",
    "        [5, -5],\n",
    "        [5, 5],\n",
    "        [0, 0]\n",
    "    ],\n",
    "    [\"red\", \"orange\", \"green\", \"purple\", \"black\"]\n",
    "):\n",
    "    dpt = tr.convert(pt, to_coords=\"drive\")\n",
    "    mpt = tr.convert(dpt, to_coords=\"motion_space\")\n",
    "    axs[0,0].plot(pt[0], pt[1], 'o', color=color)\n",
    "    axs[0,1].plot(dpt[0], dpt[1], 'o', color=color)\n",
    "    axs[0,2].plot(mpt[0], mpt[1], 'o', color=color)\n",
    "\n",
    "##\n",
    "\n",
    "axs[1,0].set_xlabel(\"Drive X\")\n",
    "axs[1,0].set_ylabel(\"Drive Y\")\n",
    "axs[1,1].set_xlabel(\"MSpace X\")\n",
    "axs[1,1].set_ylabel(\"MSpace Y\")\n",
    "axs[1,2].set_xlabel(\"Drive X\")\n",
    "axs[1,2].set_ylabel(\"Drive Y\")\n",
    "\n",
    "points = np.zeros((40, 2))\n",
    "points[0:10, 0] = np.linspace(-5, 5, num=10, endpoint=False)\n",
    "points[0:10, 1] = 5 * np.ones(10)\n",
    "points[10:20, 0] = 5 * np.ones(10)\n",
    "points[10:20, 1] = np.linspace(5, -5, num=10, endpoint=False)\n",
    "points[20:30, 0] = np.linspace(5, -5, num=10, endpoint=False)\n",
    "points[20:30, 1] = -5 * np.ones(10)\n",
    "points[30:40, 0] = -5 * np.ones(10)\n",
    "points[30:40, 1] = np.linspace(-5, 5, num=10, endpoint=False)\n",
    "\n",
    "mpoints = tr.convert(points, to_coords=\"motion_space\")\n",
    "dpoints = tr.convert(mpoints, to_coords=\"drive\")\n",
    "\n",
    "axs[1,0].fill(points[...,0], points[...,1])\n",
    "axs[1,1].fill(mpoints[...,0], mpoints[...,1])\n",
    "axs[1,2].fill(dpoints[...,0], dpoints[...,1])\n",
    "\n",
    "for pt, color in zip(\n",
    "    [\n",
    "        [-5, 5],\n",
    "        [-5, -5],\n",
    "        [5, -5],\n",
    "        [5, 5],\n",
    "        [0, 0]\n",
    "    ],\n",
    "    [\"red\", \"orange\", \"green\", \"purple\", \"black\"]\n",
    "):\n",
    "    mpt = tr.convert(pt, to_coords=\"motion_space\")\n",
    "    dpt = tr.convert(mpt, to_coords=\"drive\")\n",
    "    axs[1,0].plot(pt[0], pt[1], 'o', color=color)\n",
    "    axs[1,1].plot(mpt[0], mpt[1], 'o', color=color)\n",
    "    axs[1,2].plot(dpt[0], dpt[1], 'o', color=color)\n"
   ]
  },
  {
   "cell_type": "markdown",
   "id": "3c7e7e77-c0d0-4df0-bbdf-a0729792c490",
   "metadata": {},
   "source": [
    "### Test Transforming `drive -> motion space -> drive`"
   ]
  },
  {
   "cell_type": "code",
   "execution_count": 6,
   "id": "094e94a9-ecbf-451a-855d-ab09e818785e",
   "metadata": {},
   "outputs": [
    {
     "data": {
      "text/plain": [
       "(True, True, True, -4.8405723873656825e-14, 1.4299672557172016e-13)"
      ]
     },
     "execution_count": 6,
     "metadata": {},
     "output_type": "execute_result"
    }
   ],
   "source": [
    "mpoints = tr.convert(points, to_coords=\"motion_space\")\n",
    "dpoints = tr.convert(mpoints, to_coords=\"drive\")\n",
    "\n",
    "(\n",
    "    np.allclose(dpoints, points),\n",
    "    np.allclose(dpoints[...,0], points[...,0]),\n",
    "    np.allclose(dpoints[...,1], points[...,1]),\n",
    "    np.min(dpoints - points),\n",
    "    np.max(dpoints - points),\n",
    ")"
   ]
  },
  {
   "cell_type": "markdown",
   "id": "be2cbc76-fd22-48d3-aeeb-b1650fa93f9a",
   "metadata": {},
   "source": [
    "### Test Transforming `motion space -> drive -> motion space`"
   ]
  },
  {
   "cell_type": "code",
   "execution_count": 7,
   "id": "8782f090-6ecb-4d25-8944-9cd1853be826",
   "metadata": {},
   "outputs": [
    {
     "data": {
      "text/plain": [
       "(True, True, True, -6.927791673660977e-14, 4.796163466380676e-14)"
      ]
     },
     "execution_count": 7,
     "metadata": {},
     "output_type": "execute_result"
    }
   ],
   "source": [
    "dpoints = tr.convert(points, to_coords=\"drive\")\n",
    "mpoints = tr.convert(dpoints, to_coords=\"motion_space\")\n",
    "\n",
    "(\n",
    "    np.allclose(mpoints, points),\n",
    "    np.allclose(mpoints[...,0], points[...,0]),\n",
    "    np.allclose(mpoints[...,1], points[...,1]),\n",
    "    np.min(mpoints - points),\n",
    "    np.max(mpoints - points),\n",
    ")"
   ]
  },
  {
   "cell_type": "markdown",
   "id": "dea6120b-b00c-4828-83e8-68eff644a5e8",
   "metadata": {},
   "source": [
    "## Misc Play"
   ]
  },
  {
   "cell_type": "code",
   "execution_count": 5,
   "id": "0503ac38-33d2-442e-9a45-633f40bb562f",
   "metadata": {},
   "outputs": [
    {
     "data": {
      "text/plain": [
       "array([[-1.,  0.,  0.],\n",
       "       [ 0.,  0.,  0.],\n",
       "       [ 0.,  0.,  1.]])"
      ]
     },
     "execution_count": 5,
     "metadata": {},
     "output_type": "execute_result"
    }
   ],
   "source": [
    "tr._matrix((1.0, 0.0))"
   ]
  },
  {
   "cell_type": "code",
   "execution_count": 37,
   "id": "48b03845-2742-46f7-91d4-6dfa28ef3b0c",
   "metadata": {},
   "outputs": [
    {
     "data": {
      "text/plain": [
       "array([0.        , 0.02499479, 0.06241881])"
      ]
     },
     "execution_count": 37,
     "metadata": {},
     "output_type": "execute_result"
    }
   ],
   "source": [
    "pivot_to_drive=40.0\n",
    "pivot_to_center=57.288\n",
    "points = np.array([[1.0, 0.0], [0.0, 1.0], [2.5, 2.5]])\n",
    "\n",
    "theta = np.arctan(points[..., 1] / pivot_to_drive)\n",
    "theta"
   ]
  },
  {
   "cell_type": "code",
   "execution_count": 38,
   "id": "53a821b5-893f-4edf-93f0-2720ff5e8832",
   "metadata": {},
   "outputs": [
    {
     "data": {
      "text/plain": [
       "array([[[-1.        ,  0.        ,  0.        ],\n",
       "        [ 0.        ,  0.        ,  0.        ],\n",
       "        [ 0.        ,  0.        ,  1.        ]],\n",
       "\n",
       "       [[-0.99968765,  0.        ,  0.01789411],\n",
       "        [ 0.02499219,  0.        ,  1.43175265],\n",
       "        [ 0.        ,  0.        ,  1.        ]],\n",
       "\n",
       "       [[-0.99805258,  0.        ,  0.11156388],\n",
       "        [ 0.06237829,  0.        ,  3.57352726],\n",
       "        [ 0.        ,  0.        ,  1.        ]]])"
      ]
     },
     "execution_count": 38,
     "metadata": {},
     "output_type": "execute_result"
    }
   ],
   "source": [
    "npoints = 1 if points.ndim == 1 else points.shape[0]\n",
    "matrix = np.zeros((npoints, 3, 3)).squeeze()\n",
    "matrix[..., 0, 0] = -np.cos(theta)\n",
    "matrix[..., 0, 2] = pivot_to_center * (1.0 - np.cos(theta))\n",
    "matrix[..., 1, 0] = np.sin(theta)\n",
    "matrix[..., 1, 2] = pivot_to_center * np.sin(theta)\n",
    "matrix[..., 2, 2] = 1.0\n",
    "\n",
    "matrix"
   ]
  },
  {
   "cell_type": "code",
   "execution_count": 39,
   "id": "600d6032-d159-4827-82b0-72745e3c9ba1",
   "metadata": {},
   "outputs": [
    {
     "data": {
      "text/plain": [
       "array([[1. , 0. , 1. ],\n",
       "       [0. , 1. , 1. ],\n",
       "       [2.5, 2.5, 1. ]])"
      ]
     },
     "execution_count": 39,
     "metadata": {},
     "output_type": "execute_result"
    }
   ],
   "source": [
    "p2 = np.concatenate(\n",
    "    (\n",
    "        points,\n",
    "        np.ones((points.shape[0], 1))\n",
    "    ),\n",
    "    axis=1,\n",
    ")\n",
    "p2"
   ]
  },
  {
   "cell_type": "code",
   "execution_count": 48,
   "id": "6cde7648-0822-45ad-b711-38c81eeacdc5",
   "metadata": {},
   "outputs": [
    {
     "data": {
      "text/plain": [
       "array([[-1.        ,  0.        ],\n",
       "       [ 0.01789411,  1.43175265],\n",
       "       [-2.38356756,  3.72947297]])"
      ]
     },
     "execution_count": 48,
     "metadata": {},
     "output_type": "execute_result"
    }
   ],
   "source": [
    "np.einsum(\"kmn,kn->km\", matrix, p2)[...,:2]"
   ]
  },
  {
   "cell_type": "code",
   "execution_count": 41,
   "id": "d61993a8-5c2b-4a4b-bb1e-1dc855f72b6b",
   "metadata": {},
   "outputs": [
    {
     "data": {
      "text/plain": [
       "array([-1.,  0.,  1.])"
      ]
     },
     "execution_count": 41,
     "metadata": {},
     "output_type": "execute_result"
    }
   ],
   "source": [
    "np.matmul(matrix[0,...], p2[0, ...])"
   ]
  },
  {
   "cell_type": "code",
   "execution_count": 46,
   "id": "4c773c1c-c16c-449a-a5ba-14a9b694a700",
   "metadata": {},
   "outputs": [
    {
     "ename": "AxisError",
     "evalue": "axis 1 is out of bounds for array of dimension 1",
     "output_type": "error",
     "traceback": [
      "\u001b[1;31m---------------------------------------------------------------------------\u001b[0m",
      "\u001b[1;31mAxisError\u001b[0m                                 Traceback (most recent call last)",
      "Cell \u001b[1;32mIn [46], line 1\u001b[0m\n\u001b[1;32m----> 1\u001b[0m \u001b[43mnp\u001b[49m\u001b[38;5;241;43m.\u001b[39;49m\u001b[43mconcatenate\u001b[49m\u001b[43m(\u001b[49m\u001b[43m(\u001b[49m\u001b[43m[\u001b[49m\u001b[38;5;241;43m2\u001b[39;49m\u001b[43m,\u001b[49m\u001b[43m \u001b[49m\u001b[38;5;241;43m3\u001b[39;49m\u001b[43m]\u001b[49m\u001b[43m,\u001b[49m\u001b[43m \u001b[49m\u001b[43m[\u001b[49m\u001b[38;5;241;43m1\u001b[39;49m\u001b[43m]\u001b[49m\u001b[43m)\u001b[49m\u001b[43m,\u001b[49m\u001b[43m \u001b[49m\u001b[43maxis\u001b[49m\u001b[38;5;241;43m=\u001b[39;49m\u001b[38;5;241;43m1\u001b[39;49m\u001b[43m)\u001b[49m\n",
      "File \u001b[1;32m<__array_function__ internals>:180\u001b[0m, in \u001b[0;36mconcatenate\u001b[1;34m(*args, **kwargs)\u001b[0m\n",
      "\u001b[1;31mAxisError\u001b[0m: axis 1 is out of bounds for array of dimension 1"
     ]
    }
   ],
   "source": [
    "np.concatenate(([2, 3], [1]), axis=1)"
   ]
  },
  {
   "cell_type": "markdown",
   "id": "bad1ea07-e6cd-4261-9baf-abdd685d35f3",
   "metadata": {},
   "source": [
    "## Testing Matrix Math"
   ]
  },
  {
   "cell_type": "code",
   "execution_count": 14,
   "id": "483aa574-7a44-41b4-b2a4-3a980145a91b",
   "metadata": {},
   "outputs": [],
   "source": [
    "pivot_to_center = 57.288\n",
    "pivot_to_drive = 134.0\n",
    "drive_polarity = np.array([1.0, 1.0])\n",
    "mspace_polarity = np.array([-1.0, 1.0])"
   ]
  },
  {
   "cell_type": "code",
   "execution_count": 15,
   "id": "287b1f92-4241-482e-97f2-f4ab1e41a9bf",
   "metadata": {},
   "outputs": [],
   "source": [
    "def matrix_to_mspace(\n",
    "    points,\n",
    "    pivot_to_center,\n",
    "    pivot_to_drive,\n",
    "    drive_polarity,\n",
    "    mspace_polarity,\n",
    "):\n",
    "    points = drive_polarity * points  # type: np.ndarray\n",
    "\n",
    "    theta = np.arctan(points[..., 1] / pivot_to_drive)\n",
    "    alpha = np.pi - theta\n",
    "\n",
    "    npoints = 1 if points.ndim == 1 else points.shape[0]\n",
    "\n",
    "    T1 = np.zeros((npoints, 3, 3)).squeeze()\n",
    "    T1[..., 0, 0] = np.cos(theta)\n",
    "    T1[..., 0, 2] = -pivot_to_drive * np.cos(theta)\n",
    "    T1[..., 1, 0] = -np.sin(theta)\n",
    "    T1[..., 1, 2] = pivot_to_drive * np.sin(theta)\n",
    "    T1[..., 2, 2] = 1.0\n",
    "\n",
    "    T2 = np.zeros((npoints, 3, 3)).squeeze()\n",
    "    T2[..., 0, 0] = 1.0\n",
    "    T2[..., 0, 2] = -(pivot_to_drive + pivot_to_center) * np.cos(alpha)\n",
    "    T2[..., 1, 1] = 1.0\n",
    "    T2[..., 1, 2] = -(pivot_to_drive + pivot_to_center) * np.sin(alpha)\n",
    "    T2[..., 2, 2] = 1.0\n",
    "\n",
    "    T3 = np.zeros((npoints, 3, 3)).squeeze()\n",
    "    T3[..., 0, 0] = 1.0\n",
    "    T3[..., 0, 2] = -pivot_to_center\n",
    "    T3[..., 1, 1] = 1.0\n",
    "    T3[..., 2, 2] = 1.0\n",
    "    \n",
    "    # return T1, T2, T3\n",
    "    \n",
    "    T_dpolarity = np.diag(drive_polarity.tolist() + [1.0])\n",
    "    T_mpolarity = np.diag(mspace_polarity.tolist() + [1.0])\n",
    "    \n",
    "    return np.matmul(\n",
    "        T_mpolarity,\n",
    "        np.matmul(\n",
    "            T3,\n",
    "            np.matmul(\n",
    "                T2,\n",
    "                np.matmul(T1, T_dpolarity),\n",
    "            ),\n",
    "        ),\n",
    "    )"
   ]
  },
  {
   "cell_type": "code",
   "execution_count": 16,
   "id": "8ec05264-742e-40a2-8268-efebae168cd5",
   "metadata": {},
   "outputs": [],
   "source": [
    "def matrix_to_drive(\n",
    "    points,\n",
    "    pivot_to_center,\n",
    "    pivot_to_drive,\n",
    "    drive_polarity,\n",
    "    mspace_polarity,\n",
    "):\n",
    "    points = mspace_polarity * points  # type: np.ndarray\n",
    "\n",
    "    # need to handle when x_L = pivot_to_center\n",
    "    # since alpha can never be 90deg we done need to worry about that case\n",
    "    alpha = np.arctan(points[..., 1] / (pivot_to_center + points[...,0]))\n",
    "\n",
    "    npoints = 1 if points.ndim == 1 else points.shape[0]\n",
    "    \n",
    "    T1 = np.zeros((npoints, 3, 3)).squeeze()\n",
    "    T1[..., 0, 0] = 1.0\n",
    "    T1[..., 0, 2] = pivot_to_center\n",
    "    T1[..., 1, 1] = 1.0\n",
    "    T1[..., 2, 2] = 1.0\n",
    "\n",
    "    T2 = np.zeros((npoints, 3, 3)).squeeze()\n",
    "    T2[..., 0, 0] = 1.0\n",
    "    T2[..., 0, 2] = -(pivot_to_drive + pivot_to_center) * np.cos(alpha)\n",
    "    T2[..., 1, 1] = 1.0\n",
    "    T2[..., 1, 2] = -(pivot_to_drive + pivot_to_center) * np.sin(alpha)\n",
    "    T2[..., 2, 2] = 1.0\n",
    "    \n",
    "    T3 = np.zeros((npoints, 3, 3)).squeeze()\n",
    "    T3[..., 0, 0] = 1 / np.cos(alpha)\n",
    "    T3[..., 0, 2] = pivot_to_drive\n",
    "    T3[..., 1, 2] = -pivot_to_drive * np.tan(alpha)\n",
    "    T3[..., 2, 2] = 1.0\n",
    "    \n",
    "    # return T1, T2, T3\n",
    "    \n",
    "    T_dpolarity = np.diag(drive_polarity.tolist() + [1.0])\n",
    "    T_mpolarity = np.diag(mspace_polarity.tolist() + [1.0])\n",
    "    \n",
    "    return np.matmul(\n",
    "        T_dpolarity,\n",
    "        np.matmul(\n",
    "            T3,\n",
    "            np.matmul(\n",
    "                T2,\n",
    "                np.matmul(T1, T_mpolarity),\n",
    "            ),\n",
    "        ),\n",
    "    )"
   ]
  },
  {
   "cell_type": "code",
   "execution_count": 17,
   "id": "49b75bb5-e2cb-4703-ab52-ada40e8ee49d",
   "metadata": {},
   "outputs": [],
   "source": [
    "def convert(\n",
    "    points,\n",
    "    pivot_to_center,\n",
    "    pivot_to_drive,\n",
    "    drive_polarity,\n",
    "    mspace_polarity,\n",
    "    to_coord=\"drive\",\n",
    "):\n",
    "    if not isinstance(points, np.ndarray):\n",
    "            points = np.array(points)\n",
    "    \n",
    "    if to_coord == \"drive\":\n",
    "        matrix = matrix_to_drive(\n",
    "            points,\n",
    "            pivot_to_center=pivot_to_center,\n",
    "            pivot_to_drive=pivot_to_drive,\n",
    "            drive_polarity=drive_polarity,\n",
    "            mspace_polarity=mspace_polarity,\n",
    "        )\n",
    "    elif to_coord == \"motion_space\":\n",
    "        matrix = matrix_to_mspace(\n",
    "            points,\n",
    "            pivot_to_center=pivot_to_center,\n",
    "            pivot_to_drive=pivot_to_drive,\n",
    "            drive_polarity=drive_polarity,\n",
    "            mspace_polarity=mspace_polarity,\n",
    "        )\n",
    "    else:\n",
    "        raise ValueError\n",
    "    \n",
    "    if points.ndim == 1:\n",
    "        points = np.concatenate((points, [1]))\n",
    "        return np.matmul(matrix, points)[:2]\n",
    "\n",
    "    points = np.concatenate(\n",
    "        (points, np.ones((points.shape[0], 1))),\n",
    "        axis=1,\n",
    "    )\n",
    "    \n",
    "    return np.einsum(\"kmn,kn->km\", matrix, points)[..., :2]\n",
    "    "
   ]
  },
  {
   "cell_type": "code",
   "execution_count": 18,
   "id": "830f6bd1-cc34-44ef-8a9f-cc4b2469d097",
   "metadata": {},
   "outputs": [
    {
     "data": {
      "text/plain": [
       "array([[ 0.        ,  0.        ],\n",
       "       [-0.96447966, -4.76122797],\n",
       "       [-2.85283725, -9.87326849],\n",
       "       [ 1.00857746,  2.29892945]])"
      ]
     },
     "execution_count": 18,
     "metadata": {},
     "output_type": "execute_result"
    }
   ],
   "source": [
    "point = np.array([[0, 0], [1,2], [3,4], [-1, -1]])\n",
    "\n",
    "dpoints = convert(\n",
    "    points=point,\n",
    "    to_coord=\"drive\",\n",
    "    pivot_to_drive=pivot_to_drive,\n",
    "    pivot_to_center=pivot_to_center,\n",
    "    drive_polarity=drive_polarity,\n",
    "    mspace_polarity=mspace_polarity,\n",
    ")\n",
    "dpoints"
   ]
  },
  {
   "cell_type": "code",
   "execution_count": 19,
   "id": "e1664f8b-c219-4f14-b810-9544d24af201",
   "metadata": {},
   "outputs": [
    {
     "data": {
      "text/plain": [
       "array([[-1.42108547e-14, -2.34260237e-14],\n",
       "       [ 1.00000000e+00,  2.00000000e+00],\n",
       "       [ 3.00000000e+00,  4.00000000e+00],\n",
       "       [-1.00000000e+00, -1.00000000e+00]])"
      ]
     },
     "execution_count": 19,
     "metadata": {},
     "output_type": "execute_result"
    }
   ],
   "source": [
    "mpoints = convert(\n",
    "    points=dpoints,\n",
    "    to_coord=\"motion_space\",\n",
    "    pivot_to_drive=pivot_to_drive,\n",
    "    pivot_to_center=pivot_to_center,\n",
    "    drive_polarity=drive_polarity,\n",
    "    mspace_polarity=mspace_polarity,\n",
    ")\n",
    "mpoints"
   ]
  },
  {
   "cell_type": "code",
   "execution_count": 20,
   "id": "ac9140f2-f9d6-4299-bc17-19433b0ddf34",
   "metadata": {},
   "outputs": [
    {
     "data": {
      "text/plain": [
       "array([[ True,  True],\n",
       "       [ True,  True],\n",
       "       [ True,  True],\n",
       "       [ True,  True]])"
      ]
     },
     "execution_count": 20,
     "metadata": {},
     "output_type": "execute_result"
    }
   ],
   "source": [
    "np.isclose(mpoints, point)"
   ]
  },
  {
   "cell_type": "code",
   "execution_count": 141,
   "id": "59326859-411b-41b8-9082-79d2008152a1",
   "metadata": {},
   "outputs": [
    {
     "name": "stderr",
     "output_type": "stream",
     "text": [
      "/var/folders/k5/xkgfy_m10zjfcsy1sjb69n5c0000gn/T/ipykernel_8966/1382693254.py:1: RuntimeWarning: divide by zero encountered in true_divide\n",
      "  (mpoints - point) / point\n"
     ]
    },
    {
     "data": {
      "text/plain": [
       "array([[       -inf,        -inf],\n",
       "       [-1.99350877, -1.43493663],\n",
       "       [-1.99105254, -1.44971013],\n",
       "       [-2.00156732, -1.42004801]])"
      ]
     },
     "execution_count": 141,
     "metadata": {},
     "output_type": "execute_result"
    }
   ],
   "source": [
    "(mpoints - point) / point"
   ]
  },
  {
   "cell_type": "code",
   "execution_count": 113,
   "id": "0796106e-ecc2-495a-932f-05b59cc40257",
   "metadata": {},
   "outputs": [
    {
     "data": {
      "text/plain": [
       "(4, 3, 3)"
      ]
     },
     "execution_count": 113,
     "metadata": {},
     "output_type": "execute_result"
    }
   ],
   "source": [
    "point = np.array([[0, 0], [1,2], [3,4], [-1, -1]])\n",
    "# T1, T2, T3 = matrix_to_mspace(\n",
    "#     points=point,\n",
    "#     pivot_to_center=pivot_to_center,\n",
    "#     pivot_to_drive=pivot_to_drive,\n",
    "#     drive_polarity=drive_polarity,\n",
    "#     mspace_polarity=mspace_polarity,\n",
    "# )\n",
    "T = matrix_to_mspace(\n",
    "    points=point,\n",
    "    pivot_to_center=pivot_to_center,\n",
    "    pivot_to_drive=pivot_to_drive,\n",
    "    drive_polarity=drive_polarity,\n",
    "    mspace_polarity=mspace_polarity,\n",
    ")\n",
    "TT.shape"
   ]
  },
  {
   "cell_type": "code",
   "execution_count": 90,
   "id": "88a0662f-80d7-406f-9412-bbde9a8567db",
   "metadata": {},
   "outputs": [],
   "source": [
    "# (\n",
    "#     T1[1,...],\n",
    "#     T2[1,...],\n",
    "#     T3[1,...],\n",
    "# )"
   ]
  },
  {
   "cell_type": "code",
   "execution_count": 91,
   "id": "5e7a6431-983a-432c-ba63-d13ff0894357",
   "metadata": {},
   "outputs": [
    {
     "data": {
      "text/plain": [
       "array([[ 0.,  0.,  1.],\n",
       "       [ 1.,  2.,  1.],\n",
       "       [ 3.,  4.,  1.],\n",
       "       [-1., -1.,  1.]])"
      ]
     },
     "execution_count": 91,
     "metadata": {},
     "output_type": "execute_result"
    }
   ],
   "source": [
    "npt = np.concatenate(\n",
    "    (\n",
    "        point,\n",
    "        np.ones((point.shape[0], 1)),\n",
    "    ),\n",
    "    axis=1,\n",
    ")\n",
    "npt"
   ]
  },
  {
   "cell_type": "code",
   "execution_count": 92,
   "id": "ce4e703d-1357-4c9a-bdc3-c38c5ea09466",
   "metadata": {},
   "outputs": [
    {
     "data": {
      "text/plain": [
       "array([[-1.42108547e-14, -2.34260237e-14],\n",
       "       [-9.93508770e-01, -8.69873265e-01],\n",
       "       [-2.97315761e+00, -1.79884053e+00],\n",
       "       [ 1.00156732e+00,  4.20048005e-01]])"
      ]
     },
     "execution_count": 92,
     "metadata": {},
     "output_type": "execute_result"
    }
   ],
   "source": [
    "# np.matmul(TT, npt, axes=\"(k,m,n),(k,m)->(k,n)\")\n",
    "np.einsum(\"kmn,kn->km\", TT, npt)[..., :2]"
   ]
  },
  {
   "cell_type": "code",
   "execution_count": 93,
   "id": "a67bbad7-d5c7-4ff6-836c-be94b2837187",
   "metadata": {},
   "outputs": [
    {
     "data": {
      "text/plain": [
       "array([[ 0,  0],\n",
       "       [ 1,  2],\n",
       "       [ 3,  4],\n",
       "       [-1, -1]])"
      ]
     },
     "execution_count": 93,
     "metadata": {},
     "output_type": "execute_result"
    }
   ],
   "source": [
    "point"
   ]
  },
  {
   "cell_type": "code",
   "execution_count": 104,
   "id": "67082e99-d5a0-49c8-a28b-2ab0e08717fa",
   "metadata": {},
   "outputs": [
    {
     "data": {
      "text/plain": [
       "(array([[-1,  0,  0],\n",
       "        [ 0, -1,  0],\n",
       "        [ 0,  0,  1]]),\n",
       " array([[-1., -0., -0.],\n",
       "        [-0., -1., -0.],\n",
       "        [ 0.,  0.,  1.]]))"
      ]
     },
     "execution_count": 104,
     "metadata": {},
     "output_type": "execute_result"
    }
   ],
   "source": [
    "P = np.diag([-1, -1, 1])\n",
    "(\n",
    "    P,\n",
    "    np.linalg.inv(P),\n",
    ")"
   ]
  },
  {
   "cell_type": "code",
   "execution_count": 108,
   "id": "cac88c7f-beec-4ff7-98ad-d4d2d805f952",
   "metadata": {},
   "outputs": [
    {
     "data": {
      "text/plain": [
       "(array([[  1.,   0., -50.],\n",
       "        [  0.,   1.,   0.],\n",
       "        [  0.,   0.,   1.]]),\n",
       " array([[ 1.,  0., 50.],\n",
       "        [ 0.,  1.,  0.],\n",
       "        [ 0.,  0.,  1.]]))"
      ]
     },
     "execution_count": 108,
     "metadata": {},
     "output_type": "execute_result"
    }
   ],
   "source": [
    "M = np.zeros((3, 3))\n",
    "M[0,0] = 1\n",
    "M[0,2] = -50\n",
    "M[1,1] = 1\n",
    "M[2,2] = 1\n",
    "\n",
    "(\n",
    "    M,\n",
    "    np.linalg.inv(M),\n",
    ")"
   ]
  },
  {
   "cell_type": "code",
   "execution_count": null,
   "id": "377c98d5-5de0-4c83-b81a-714a7bda27b1",
   "metadata": {},
   "outputs": [],
   "source": []
  }
 ],
 "metadata": {
  "kernelspec": {
   "display_name": "Python 3 (ipykernel)",
   "language": "python",
   "name": "python3"
  },
  "language_info": {
   "codemirror_mode": {
    "name": "ipython",
    "version": 3
   },
   "file_extension": ".py",
   "mimetype": "text/x-python",
   "name": "python",
   "nbconvert_exporter": "python",
   "pygments_lexer": "ipython3",
   "version": "3.10.4"
  }
 },
 "nbformat": 4,
 "nbformat_minor": 5
}
